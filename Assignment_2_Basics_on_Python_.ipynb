{
  "nbformat": 4,
  "nbformat_minor": 0,
  "metadata": {
    "colab": {
      "provenance": []
    },
    "kernelspec": {
      "name": "python3",
      "display_name": "Python 3"
    },
    "language_info": {
      "name": "python"
    }
  },
  "cells": [
    {
      "cell_type": "markdown",
      "source": [
        "**Assignment 2 - Basics on Python**\n",
        "\n",
        "*Name:* Ramiro Gracia Díaz\n",
        "\n",
        "*ID:* 2010673\n",
        "\n",
        "*Professor:* Daniel Isaías López Páez\n",
        "\n",
        "*Group:* 002\n",
        "\n",
        "*Class hour:* N4-N6\n",
        "\n",
        "\n",
        "\n",
        "*   Text Analysis Tool: Create a Python program that reads a text file and performs various analyses on its content. The program should: Count the number of words, sentences, and paragraphs. Calculate the average word length. Identify the most common words and their frequencies.\n",
        "*   Hangman Game: Create a Python program that allows a user to play the game of Hangman. The program should randomly select a word from a predefined list, and the player must guess letters one at a time until they guess the word correctly or run out of attempts.\n",
        "*   Number Guessing Game: Create a program that generates a random number between 1 and 100, and then asks the user to guess the number. The program should provide hints to the user if the guessed number is greater or less than the target number, and keep asking for a new guess until the user guesses correctly.\n",
        "\n",
        "\n",
        "\n",
        "\n"
      ],
      "metadata": {
        "id": "HQy9djE94mv9"
      }
    },
    {
      "cell_type": "markdown",
      "source": [
        "# **TEXT ANALYSIS TOOL**"
      ],
      "metadata": {
        "id": "RWYv2Gzk7eD8"
      }
    },
    {
      "cell_type": "code",
      "source": [
        "def count_words(text):\n",
        "    words = text.split()\n",
        "    return len(words)\n",
        "\n",
        "def count_sentences(text):\n",
        "    sentences = text.split('. ')\n",
        "    return len(sentences)\n",
        "\n",
        "def count_paragraphs(text):\n",
        "    paragraphs = text.split('\\n\\n')\n",
        "    return len(paragraphs)\n",
        "\n",
        "def average_word_length(text):\n",
        "    words = text.split()\n",
        "    total_length = sum(len(word) for word in words)\n",
        "    return total_length / len(words) if len(words) > 0 else 0\n",
        "\n",
        "def most_common_words(text, num_words=10):\n",
        "    words = text.lower().split()\n",
        "    word_counts = {}\n",
        "    for word in words:\n",
        "        if word in word_counts:\n",
        "            word_counts[word] += 1\n",
        "        else:\n",
        "            word_counts[word] = 1\n",
        "    sorted_word_counts = sorted(word_counts.items(), key=lambda x: x[1], reverse=True)\n",
        "    return sorted_word_counts[:num_words]\n",
        "\n",
        "if __name__ == \"__main__\":\n",
        "    text = input(\"Enter the text to analyze: \")\n",
        "\n",
        "    num_words = count_words(text)\n",
        "    num_sentences = count_sentences(text)\n",
        "    num_paragraphs = count_paragraphs(text)\n",
        "    avg_word_length = average_word_length(text)\n",
        "    common_words = most_common_words(text)\n",
        "\n",
        "    print(\"Analysis of the text:\")\n",
        "    print(\"Number of words:\", num_words)\n",
        "    print(\"Number of sentences:\", num_sentences)\n",
        "    print(\"Number of paragraphs:\", num_paragraphs)\n",
        "    print(\"Average word length:\", avg_word_length)\n",
        "    print(\"Most common words:\")\n",
        "    for word, count in common_words:\n",
        "        print(f\"{word}: {count}\")"
      ],
      "metadata": {
        "colab": {
          "base_uri": "https://localhost:8080/"
        },
        "id": "C9HFgugr5YNw",
        "outputId": "3c25c7e8-e795-4da5-81f7-c7f3d72b21ac"
      },
      "execution_count": 51,
      "outputs": [
        {
          "output_type": "stream",
          "name": "stdout",
          "text": [
            "Enter the text to analyze: hola hola, amigos esto es una pureba hola amigos\n",
            "Analysis of the text:\n",
            "Number of words: 9\n",
            "Number of sentences: 1\n",
            "Number of paragraphs: 1\n",
            "Average word length: 4.444444444444445\n",
            "Most common words:\n",
            "hola: 2\n",
            "amigos: 2\n",
            "hola,: 1\n",
            "esto: 1\n",
            "es: 1\n",
            "una: 1\n",
            "pureba: 1\n"
          ]
        }
      ]
    },
    {
      "cell_type": "markdown",
      "source": [
        "# **HANGMAN GAME**"
      ],
      "metadata": {
        "id": "sIjSCuyG7TX1"
      }
    },
    {
      "cell_type": "code",
      "source": [
        "import random\n",
        "\n",
        "def choose_word():\n",
        "    words = [\"tacos\", \"hamburger\", \"pizza\", \"water\", \"chicken\", \"mango\"]\n",
        "    return random.choice(words)\n",
        "\n",
        "def display_word(word, guessed_letters):\n",
        "    displayed_word = \"\"\n",
        "    for letter in word:\n",
        "        if letter in guessed_letters:\n",
        "            displayed_word += letter\n",
        "        else:\n",
        "            displayed_word += \"_\"\n",
        "    return displayed_word\n",
        "\n",
        "def hangman():\n",
        "    attempts = 6\n",
        "    word = choose_word()\n",
        "    guessed_letters = []\n",
        "\n",
        "    print(\"Welcome to Hangman!\")\n",
        "    print(\"The word contains, Good luck\", len(word), \"letters.\")\n",
        "\n",
        "    while attempts > 0:\n",
        "        print(\"\\nWord:\", display_word(word, guessed_letters))\n",
        "        guess = input(\"Guess a letter: \").lower()\n",
        "\n",
        "        if guess in guessed_letters:\n",
        "            print(\"You've already guessed that letter.\")\n",
        "            continue\n",
        "\n",
        "        guessed_letters.append(guess)\n",
        "\n",
        "        if guess in word:\n",
        "            print(\"Nice guess!\")\n",
        "            if display_word(word, guessed_letters) == word:\n",
        "                print(\"\\nWinner winner chicken dinner! You've guessed the word:\", word)\n",
        "                break\n",
        "        else:\n",
        "            print(\"Incorrect guess.\")\n",
        "            attempts -= 1\n",
        "            print(\"Attempts left:\", attempts)\n",
        "\n",
        "    else:\n",
        "        print(\"\\nTry again. The word was:\", word)\n",
        "\n",
        "hangman()"
      ],
      "metadata": {
        "colab": {
          "base_uri": "https://localhost:8080/"
        },
        "id": "WNSlydbY4zII",
        "outputId": "bc5e70f2-4d79-4fe6-a012-0ab01b0a1346"
      },
      "execution_count": 30,
      "outputs": [
        {
          "output_type": "stream",
          "name": "stdout",
          "text": [
            "Welcome to Hangman!\n",
            "The word contains, Good luck 5 letters.\n",
            "\n",
            "Word: _____\n",
            "Guess a letter: a\n",
            "Nice guess!\n",
            "\n",
            "Word: _a___\n",
            "Guess a letter: a\n",
            "You've already guessed that letter.\n",
            "\n",
            "Word: _a___\n",
            "Guess a letter: w\n",
            "Nice guess!\n",
            "\n",
            "Word: wa___\n",
            "Guess a letter: e\n",
            "Nice guess!\n",
            "\n",
            "Word: wa_e_\n",
            "Guess a letter: r\n",
            "Nice guess!\n",
            "\n",
            "Word: wa_er\n",
            "Guess a letter: t\n",
            "Nice guess!\n",
            "\n",
            "Winner winner chicken dinner! You've guessed the word: water\n"
          ]
        }
      ]
    },
    {
      "cell_type": "markdown",
      "source": [
        "# **NUMBER GUESSING GAME**"
      ],
      "metadata": {
        "id": "70taLkoA8v8G"
      }
    },
    {
      "cell_type": "code",
      "source": [
        "import random\n",
        "\n",
        "def number_guessing_game():\n",
        "    target_number = random.randint(1, 100)\n",
        "    guessed = False\n",
        "\n",
        "    print(\"Welcome to the Number Guessing Game!\")\n",
        "    print(\"I've picked a random number between 1 and 100. Try to guess it!\")\n",
        "\n",
        "    while not guessed:\n",
        "        guess = int(input(\"\\nEnter your guess: \"))\n",
        "\n",
        "        if guess < target_number:\n",
        "            print(\"Too low! Try a higher number.\")\n",
        "        elif guess > target_number:\n",
        "            print(\"Too high! Try a lower number.\")\n",
        "        else:\n",
        "            print(\"Congratulations! You've guessed the number\", target_number, \"correctly!\")\n",
        "            guessed = True\n",
        "\n",
        "number_guessing_game()\n"
      ],
      "metadata": {
        "colab": {
          "base_uri": "https://localhost:8080/"
        },
        "id": "KvDnanaB82lU",
        "outputId": "5cd8a670-e09e-4e06-e316-1319390270cd"
      },
      "execution_count": 45,
      "outputs": [
        {
          "output_type": "stream",
          "name": "stdout",
          "text": [
            "Welcome to the Number Guessing Game!\n",
            "I've picked a random number between 1 and 100. Try to guess it!\n",
            "\n",
            "Enter your guess: 43\n",
            "Too low! Try a higher number.\n",
            "\n",
            "Enter your guess: 23\n",
            "Too low! Try a higher number.\n",
            "\n",
            "Enter your guess: 70\n",
            "Too high! Try a lower number.\n",
            "\n",
            "Enter your guess: 60\n",
            "Too low! Try a higher number.\n",
            "\n",
            "Enter your guess: 65\n",
            "Too low! Try a higher number.\n",
            "\n",
            "Enter your guess: 68\n",
            "Too high! Try a lower number.\n",
            "\n",
            "Enter your guess: 67\n",
            "Too high! Try a lower number.\n",
            "\n",
            "Enter your guess: 66\n",
            "Congratulations! You've guessed the number 66 correctly!\n"
          ]
        }
      ]
    }
  ]
}
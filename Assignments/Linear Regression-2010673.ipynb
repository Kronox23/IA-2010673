{
  "nbformat": 4,
  "nbformat_minor": 0,
  "metadata": {
    "colab": {
      "provenance": []
    },
    "kernelspec": {
      "name": "python3",
      "display_name": "Python 3"
    },
    "language_info": {
      "name": "python"
    }
  },
  "cells": [
    {
      "cell_type": "markdown",
      "source": [
        "Ramiro Gracia Díaz #2010673"
      ],
      "metadata": {
        "id": "dUYP8SITSHW4"
      }
    },
    {
      "cell_type": "markdown",
      "source": [
        "*We need to load the libraries and data*"
      ],
      "metadata": {
        "id": "MW9l0_6DSOaZ"
      }
    },
    {
      "cell_type": "code",
      "source": [
        "import numpy as np\n",
        "from sklearn.model_selection import train_test_split\n",
        "from sklearn.linear_model import LinearRegression\n",
        "from sklearn.metrics import mean_squared_error\n",
        "import matplotlib.pyplot as plt\n",
        "\n",
        "# Set a seed for reproducibility\n",
        "np.random.seed(0)\n",
        "\n",
        "# Generate random data for study hours and grades\n",
        "study_hours = np.random.rand(200, 1) * 10\n",
        "grades = 2 * study_hours + np.random.randn(200, 1) * 2"
      ],
      "metadata": {
        "id": "wTfW0ukvSqoO"
      },
      "execution_count": 11,
      "outputs": []
    },
    {
      "cell_type": "markdown",
      "source": [
        "*Now we process the data*"
      ],
      "metadata": {
        "id": "VMhS7pt8S0-z"
      }
    },
    {
      "cell_type": "code",
      "source": [
        "\n",
        "# Add a column of ones to the data for the intercept term\n",
        "X = np.hstack((np.ones((200, 1)), study_hours))\n",
        "Y = grades\n",
        "\n",
        "# Split data into training and testing sets (80% train, 20% test)\n",
        "train_data, test_data, train_labels, test_labels = train_test_split(X, Y, test_size=0.2)"
      ],
      "metadata": {
        "id": "W-Q1R5AWTBoA"
      },
      "execution_count": 12,
      "outputs": []
    },
    {
      "cell_type": "markdown",
      "source": [
        "*Next we are gonna work with the model.*\n",
        "\n",
        "\n",
        "1.   Selection and training\n",
        "2.   Testing\n",
        "3.   Mean Squared Error\n",
        "\n",
        "\n"
      ],
      "metadata": {
        "id": "55gMAXc_TFiu"
      }
    },
    {
      "cell_type": "code",
      "source": [
        "# Create and fit the model with training data\n",
        "model = LinearRegression()\n",
        "model.fit(train_data, train_labels)\n",
        "\n",
        "# Make predictions for test data\n",
        "predicted_grades = model.predict(test_data)\n",
        "\n",
        "# Calculate mean squared error (MSE)\n",
        "mse = mean_squared_error(test_labels, predicted_grades)\n",
        "print(\"Mean Squared Error:\", mse)\n",
        "\n"
      ],
      "metadata": {
        "colab": {
          "base_uri": "https://localhost:8080/"
        },
        "id": "39wueMcqThA8",
        "outputId": "07b4a59f-f659-4205-b268-b2268d83b04b"
      },
      "execution_count": 13,
      "outputs": [
        {
          "output_type": "stream",
          "name": "stdout",
          "text": [
            "Mean Squared Error: 3.253496305918805\n"
          ]
        }
      ]
    },
    {
      "cell_type": "markdown",
      "source": [
        "*Plot*"
      ],
      "metadata": {
        "id": "RC1XnhcfT4zV"
      }
    },
    {
      "cell_type": "code",
      "source": [
        "# Plot the model line and test data points\n",
        "plt.scatter(test_data[:, 1], test_labels, color='red')\n",
        "plt.plot(test_data[:, 1], predicted_grades, color='blue')\n",
        "plt.xlabel('Study hours')\n",
        "plt.ylabel('Grades')\n",
        "plt.title('Linear regression')\n",
        "plt.show()"
      ],
      "metadata": {
        "colab": {
          "base_uri": "https://localhost:8080/",
          "height": 472
        },
        "id": "qJcdemyYU1Ix",
        "outputId": "0ba61c00-9677-46fc-ebee-b29dbf81a4ff"
      },
      "execution_count": 15,
      "outputs": [
        {
          "output_type": "display_data",
          "data": {
            "text/plain": [
              "<Figure size 640x480 with 1 Axes>"
            ],
            "image/png": "[encoded data removed]"
          },
          "metadata": {}
        }
      ]
    },
    {
      "cell_type": "code",
      "source": [],
      "metadata": {
        "colab": {
          "base_uri": "https://localhost:8080/"
        },
        "id": "zM6WAncrUA79",
        "outputId": "6cdf327d-c7c9-437d-bd72-5356e1db017f"
      },
      "execution_count": 8,
      "outputs": [
        {
          "output_type": "stream",
          "name": "stdout",
          "text": [
            "Mean Squared Error: 3.253496305918805\n"
          ]
        }
      ]
    },
    {
      "cell_type": "markdown",
      "source": [],
      "metadata": {
        "id": "lfToTkWhSmRc"
      }
    }
  ]
}
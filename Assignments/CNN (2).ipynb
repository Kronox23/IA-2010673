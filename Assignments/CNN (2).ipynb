{
  "nbformat": 4,
  "nbformat_minor": 0,
  "metadata": {
    "colab": {
      "provenance": []
    },
    "kernelspec": {
      "name": "python3",
      "display_name": "Python 3"
    },
    "language_info": {
      "name": "python"
    }
  },
  "cells": [
    {
      "cell_type": "markdown",
      "source": [
        "# **Convolutional Neural Network**"
      ],
      "metadata": {
        "id": "wxoMNHmH9SLe"
      }
    },
    {
      "cell_type": "markdown",
      "source": [
        "**1. Load libraries**"
      ],
      "metadata": {
        "id": "F5_uZRQIHjRn"
      }
    },
    {
      "cell_type": "code",
      "source": [
        "#Oscar Daniel Leal Maldonado\n",
        "import tensorflow as tf\n",
        "from tensorflow.keras import datasets, layers, models\n",
        "import matplotlib.pyplot as plt\n"
      ],
      "metadata": {
        "id": "34VQvjhE9Wbo"
      },
      "execution_count": null,
      "outputs": []
    },
    {
      "cell_type": "markdown",
      "source": [
        "**2. Load Data**"
      ],
      "metadata": {
        "id": "SqM9yoxpHreB"
      }
    },
    {
      "cell_type": "code",
      "source": [
        "(train_images, train_labels), (test_images, test_labels) = datasets.mnist.load_data()\n",
        "\n",
        "# Normalize pixel values to be between 0 and 1\n",
        "train_images, test_images = train_images / 255.0, test_images / 255.0\n",
        "\n"
      ],
      "metadata": {
        "id": "_X3djM1G9yey"
      },
      "execution_count": null,
      "outputs": []
    },
    {
      "cell_type": "markdown",
      "source": [
        "**3. Preprocessing**"
      ],
      "metadata": {
        "id": "XJSeNy62HxFI"
      }
    },
    {
      "cell_type": "code",
      "source": [
        "class_names = ['Zero', 'One', 'Two', 'Three', 'Four',\n",
        "               'Five', 'Six', 'Seven', 'Eight', 'Nine']\n",
        "\n",
        "plt.figure(figsize=(10,10))\n",
        "for i in range(25):\n",
        "    plt.subplot(5,5,i+1)\n",
        "    plt.xticks([])\n",
        "    plt.yticks([])\n",
        "    plt.grid(False)\n",
        "    plt.imshow(train_images[i])\n",
        "    # The CIFAR labels happen to be arrays,\n",
        "\n",
        "plt.show()\n"
      ],
      "metadata": {
        "colab": {
          "base_uri": "https://localhost:8080/",
          "height": 807
        },
        "id": "8S5EuSZN90jy",
        "outputId": "f53543c8-16cf-40ff-f723-1e00e530143e"
      },
      "execution_count": null,
      "outputs": [
        {
          "output_type": "display_data",
          "data": {
            "text/plain": [
              "<Figure size 1000x1000 with 25 Axes>"
            ],
            "image/png": "[encoded data removed]"
          },
          "metadata": {}
        }
      ]
    },
    {
      "cell_type": "markdown",
      "source": [
        "**4. Model selection and training**"
      ],
      "metadata": {
        "id": "BZlIHxMsH4vX"
      }
    },
    {
      "cell_type": "code",
      "source": [
        "model = models.Sequential([\n",
        "    layers.Conv2D(32, (3, 3), activation='relu', input_shape=(28, 28, 1)),\n",
        "    layers.MaxPooling2D((2, 2)),\n",
        "    layers.Conv2D(64, (3, 3), activation='relu'),\n",
        "    layers.MaxPooling2D((2, 2)),\n",
        "    layers.Conv2D(64, (3, 3), activation='relu'),\n",
        "    layers.Flatten(),\n",
        "    layers.Dense(64, activation='relu'),\n",
        "    layers.Dense(10, activation='softmax')  # Activación softmax en la capa de salida\n",
        "])"
      ],
      "metadata": {
        "id": "JgxlzLFq93tx"
      },
      "execution_count": null,
      "outputs": []
    },
    {
      "cell_type": "code",
      "source": [
        "model.compile(optimizer='adam',\n",
        "              loss=tf.keras.losses.SparseCategoricalCrossentropy(from_logits=True),\n",
        "              metrics=['accuracy'])\n",
        "\n",
        "\n",
        "history = model.fit(train_images, train_labels, epochs=10, validation_split=0.1)\n",
        "\n"
      ],
      "metadata": {
        "colab": {
          "base_uri": "https://localhost:8080/"
        },
        "id": "ACnFase2951k",
        "outputId": "ed6b3cf3-0fd1-42ae-daf5-a79b465e5894"
      },
      "execution_count": null,
      "outputs": [
        {
          "output_type": "stream",
          "name": "stdout",
          "text": [
            "Epoch 1/10\n",
            "1688/1688 [==============================] - 73s 42ms/step - loss: 0.0097 - accuracy: 0.9969 - val_loss: 0.0414 - val_accuracy: 0.9918\n",
            "Epoch 2/10\n",
            "1688/1688 [==============================] - 57s 33ms/step - loss: 0.0073 - accuracy: 0.9978 - val_loss: 0.0395 - val_accuracy: 0.9922\n",
            "Epoch 3/10\n",
            "1688/1688 [==============================] - 58s 34ms/step - loss: 0.0073 - accuracy: 0.9975 - val_loss: 0.0453 - val_accuracy: 0.9913\n",
            "Epoch 4/10\n",
            "1688/1688 [==============================] - 57s 34ms/step - loss: 0.0065 - accuracy: 0.9980 - val_loss: 0.0411 - val_accuracy: 0.9912\n",
            "Epoch 5/10\n",
            "1688/1688 [==============================] - 58s 34ms/step - loss: 0.0062 - accuracy: 0.9979 - val_loss: 0.0438 - val_accuracy: 0.9923\n",
            "Epoch 6/10\n",
            "1688/1688 [==============================] - 58s 34ms/step - loss: 0.0059 - accuracy: 0.9980 - val_loss: 0.0479 - val_accuracy: 0.9925\n",
            "Epoch 7/10\n",
            "1688/1688 [==============================] - 56s 33ms/step - loss: 0.0060 - accuracy: 0.9981 - val_loss: 0.0532 - val_accuracy: 0.9908\n",
            "Epoch 8/10\n",
            "1688/1688 [==============================] - 57s 34ms/step - loss: 0.0054 - accuracy: 0.9983 - val_loss: 0.0366 - val_accuracy: 0.9928\n",
            "Epoch 9/10\n",
            "1688/1688 [==============================] - 61s 36ms/step - loss: 0.0057 - accuracy: 0.9983 - val_loss: 0.0582 - val_accuracy: 0.9902\n",
            "Epoch 10/10\n",
            "1688/1688 [==============================] - 57s 34ms/step - loss: 0.0042 - accuracy: 0.9985 - val_loss: 0.0521 - val_accuracy: 0.9922\n"
          ]
        }
      ]
    },
    {
      "cell_type": "markdown",
      "source": [
        "**5. Model testing**"
      ],
      "metadata": {
        "id": "wH-j2oRUIIGt"
      }
    },
    {
      "cell_type": "code",
      "source": [
        "# Evaluar el modelo en el conjunto de prueba\n",
        "test_loss, test_acc = model.evaluate(test_images, test_labels)\n",
        "print(f\"Test accuracy: {test_acc}\")\n",
        "\n",
        "# Realizar 5 predicciones y mostrar los resultados\n",
        "predictions = model.predict(test_images[:5])\n",
        "predicted_labels = tf.argmax(predictions, axis=1)\n",
        "\n",
        "\n",
        "# Mostrar las predicciones y las etiquetas reales con el nombre de las clases\n",
        "for i in range(5):\n",
        "    predicted_class = class_names[predicted_labels[i]]\n",
        "    actual_class = class_names[test_labels[i]]\n",
        "    print(f\"Predicted: {predicted_class}, Actual: {actual_class}\")"
      ],
      "metadata": {
        "colab": {
          "base_uri": "https://localhost:8080/"
        },
        "id": "-PqfgvuV9652",
        "outputId": "1783c57c-e05e-4174-f6b2-cccb70c2192e"
      },
      "execution_count": null,
      "outputs": [
        {
          "output_type": "stream",
          "name": "stdout",
          "text": [
            "313/313 [==============================] - 4s 12ms/step - loss: 0.0483 - accuracy: 0.9928\n",
            "Test accuracy: 0.9927999973297119\n",
            "1/1 [==============================] - 0s 163ms/step\n",
            "Predicted: Seven, Actual: Seven\n",
            "Predicted: Two, Actual: Two\n",
            "Predicted: One, Actual: One\n",
            "Predicted: Zero, Actual: Zero\n",
            "Predicted: Four, Actual: Four\n"
          ]
        }
      ]
    },
    {
      "cell_type": "code",
      "source": [
        "#Plot\n",
        "def plot_image(i, predictions_array, true_label, img):\n",
        "  true_label, img = true_label[i], img[i]\n",
        "  plt.grid(False)\n",
        "  plt.xticks([])\n",
        "  plt.yticks([])\n",
        "\n",
        "  plt.imshow(img, cmap=plt.cm.binary)\n",
        "\n",
        "  predicted_label = np.argmax(predictions_array)\n",
        "  if predicted_label == true_label:\n",
        "    color = 'blue'\n",
        "  else:\n",
        "    color = 'red'\n",
        "\n",
        "  plt.xlabel(\"{} {:2.0f}% ({})\".format(class_names[predicted_label],\n",
        "                                100*np.max(predictions_array),\n",
        "                                class_names[true_label]),\n",
        "                                color=color)\n",
        "\n",
        "def plot_value_array(i, predictions_array, true_label):\n",
        "  true_label = true_label[i]\n",
        "  plt.grid(False)\n",
        "  plt.xticks(range(10))\n",
        "  plt.yticks([])\n",
        "  thisplot = plt.bar(range(10), predictions_array, color=\"#777777\")\n",
        "  plt.ylim([0, 1])\n",
        "  predicted_label = np.argmax(predictions_array)\n",
        "\n",
        "  thisplot[predicted_label].set_color('red')\n",
        "  thisplot[true_label].set_color('blue')"
      ],
      "metadata": {
        "id": "TCQliAURJDie"
      },
      "execution_count": null,
      "outputs": []
    },
    {
      "cell_type": "code",
      "source": [
        "num_rows = 1\n",
        "num_cols = 5\n",
        "num_images = num_rows*num_cols\n",
        "plt.figure(figsize=(2*2*num_cols, 2*num_rows))\n",
        "for i in range(num_images):\n",
        "  plt.subplot(num_rows, 2*num_cols, 2*i+1)\n",
        "  plot_image(i, predictions[i], test_labels, test_images)\n",
        "  plt.subplot(num_rows, 2*num_cols, 2*i+2)\n",
        "  plot_value_array(i, predictions[i], test_labels)\n",
        "plt.tight_layout()\n",
        "plt.show()"
      ],
      "metadata": {
        "colab": {
          "base_uri": "https://localhost:8080/",
          "height": 144
        },
        "id": "GfjkAsBtJMe_",
        "outputId": "98fbbf34-0edf-4b38-ac7b-6aef94a44735"
      },
      "execution_count": null,
      "outputs": [
        {
          "output_type": "display_data",
          "data": {
            "text/plain": [
              "<Figure size 2000x200 with 10 Axes>"
            ],
            "image/png": "[encoded data removed]"
          },
          "metadata": {}
        }
      ]
    }
  ]
}